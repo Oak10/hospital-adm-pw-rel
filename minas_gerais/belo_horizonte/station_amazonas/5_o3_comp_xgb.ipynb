{
 "cells": [
  {
   "cell_type": "markdown",
   "id": "401957ae",
   "metadata": {},
   "source": [
    "# Compare the regression of the base model with the pollutant validation dataset"
   ]
  },
  {
   "cell_type": "code",
   "execution_count": null,
   "id": "b2cfa988",
   "metadata": {},
   "outputs": [],
   "source": [
    "import pandas as pd\n",
    "import matplotlib.pyplot as plt\n",
    "import seaborn as sns\n",
    "import numpy as np\n",
    "\n",
    "from sklearn.model_selection import train_test_split, cross_val_score, GridSearchCV\n",
    "from sklearn.metrics import mean_squared_error, mean_absolute_error, r2_score\n",
    "from xgboost import XGBRegressor"
   ]
  },
  {
   "cell_type": "code",
   "execution_count": null,
   "id": "8c49fdbd",
   "metadata": {},
   "outputs": [],
   "source": [
    "# --- Metrics ---\n",
    "def mape(y_true, y_pred):\n",
    "    return np.mean(np.abs((y_true - y_pred) / y_true)) * 100\n",
    "\n",
    "def smape(y_true, y_pred):\n",
    "    return 100/len(y_true) * np.sum(2 * np.abs(y_pred - y_true) / (np.abs(y_true) + np.abs(y_pred)))"
   ]
  },
  {
   "cell_type": "code",
   "execution_count": null,
   "id": "8a20ed56",
   "metadata": {},
   "outputs": [],
   "source": [
    "df = pd.read_csv(\"df_final_bh_amazonas.csv\")\n",
    "df_pollu = df.copy()"
   ]
  },
  {
   "cell_type": "code",
   "execution_count": null,
   "id": "d6142266",
   "metadata": {},
   "outputs": [],
   "source": [
    "selected_cols_final = [\n",
    "    'Date',\n",
    "    'DayOfWeekNum',\n",
    "    'WeekOfYear',\n",
    "    'Month',\n",
    "    'IsWeekend',\n",
    "    'IsHoliday',\n",
    "    'NUMBER_INT',\n",
    "    'temp_max',\n",
    "    'temp_min',\n",
    "    'humidity_max',\n",
    "]\n",
    "\n",
    "df_final = df[selected_cols_final].copy()"
   ]
  },
  {
   "cell_type": "code",
   "execution_count": null,
   "id": "56967def",
   "metadata": {},
   "outputs": [],
   "source": [
    "df_final = df_final.dropna()"
   ]
  },
  {
   "cell_type": "code",
   "execution_count": null,
   "id": "6f8a63a1",
   "metadata": {},
   "outputs": [],
   "source": [
    "df_final['Date'] = pd.to_datetime(df_final['Date'])\n",
    "\n",
    "# remove the last 5 days (account for lag ...)\n",
    "df_final = df_final[:-5]\n",
    "\n",
    "# Range for training and testing (4 years for training, 1 year for validation)\n",
    "min_year = df_final['Date'].dt.year.min()\n",
    "train_mask = df_final['Date'].dt.year < (min_year + 4)\n",
    "val_mask = df_final['Date'].dt.year == (min_year + 4)\n",
    "\n",
    "\n",
    "df_train = df_final[train_mask]\n",
    "df_val = df_final[val_mask]\n",
    "\n",
    "\n",
    "print(f\"Training set size: {df_train.count()} rows\")\n",
    "print(f\"Validation set size: {df_val.count()} rows\")\n",
    "print(f\"Training set date range: {df_train['Date'].min()} to {df_train['Date'].max()}\")\n",
    "print(f\"Validation set date range: {df_val['Date'].min()} to {df_val['Date'].max()}\")\n",
    "\n",
    "df_train = df_train.drop(columns=['Date'])\n",
    "df_val = df_val.drop(columns=['Date'])\n",
    "\n",
    "X = df_final.drop(columns=['Date', 'NUMBER_INT'])\n",
    "y = df_final['NUMBER_INT']\n",
    "\n",
    "\n",
    "X_train = df_train.drop(columns=['NUMBER_INT'])\n",
    "y_train = df_train['NUMBER_INT']\n",
    "\n",
    "X_val = df_val.drop(columns=['NUMBER_INT'])\n",
    "y_val = df_val['NUMBER_INT']"
   ]
  },
  {
   "cell_type": "code",
   "execution_count": null,
   "id": "f58b79ee",
   "metadata": {},
   "outputs": [],
   "source": [
    "results = []\n",
    "results30 = []"
   ]
  },
  {
   "cell_type": "code",
   "execution_count": null,
   "id": "be2a2bf6",
   "metadata": {},
   "outputs": [],
   "source": [
    "best_xgb_model_base = XGBRegressor(\n",
    "    n_estimators=140,\n",
    "    max_depth=6,\n",
    "    learning_rate=0.01,\n",
    "    subsample=0.8,\n",
    "    colsample_bytree=0.8,\n",
    "    random_state=0\n",
    ")\n",
    "\n",
    "best_xgb_model_base.fit(X_train, y_train)\n",
    "\n",
    "\n",
    "y_pred = best_xgb_model_base.predict(X_val)\n",
    "\n",
    "# Metrics 1y\n",
    "mse = mean_squared_error(y_val, y_pred)\n",
    "rmse = np.sqrt(mse)\n",
    "mae = mean_absolute_error(y_val, y_pred)\n",
    "mape_val = mape(y_val, y_pred)\n",
    "smape_val = smape(y_val, y_pred)\n",
    "r2 = r2_score(y_val, y_pred)\n",
    "corr = np.corrcoef(y_val, y_pred)[0, 1]\n",
    "\n",
    "# Metrics 30d\n",
    "y_pred_30d = best_xgb_model_base.predict(X_val[:30])\n",
    "y_val_30 = y_val[:30]\n",
    "mse_30d = mean_squared_error(y_val_30, y_pred_30d)\n",
    "rmse_30d = np.sqrt(mse_30d)\n",
    "mae_30d = mean_absolute_error(y_val_30, y_pred_30d)\n",
    "mape_val_30d = mape(y_val_30, y_pred_30d)\n",
    "smape_val_30d = smape(y_val_30, y_pred_30d)\n",
    "r2_30d = r2_score(y_val_30, y_pred_30d)\n",
    "corr_30d = np.corrcoef(y_val_30, y_pred_30d)[0, 1]\n",
    "\n",
    "results.append({\n",
    "    'MSE': mse,\n",
    "    'RMSE': rmse,\n",
    "    'MAE': mae,\n",
    "    'MAPE': mape_val,\n",
    "    'sMAPE': smape_val,\n",
    "    'R2': r2,\n",
    "    'Correlation': corr\n",
    "})\n",
    "\n",
    "results30.append({\n",
    "    'run': 1,\n",
    "    'random_state': 0,\n",
    "    'MSE_30d': mse_30d,\n",
    "    'RMSE_30d': rmse_30d,\n",
    "    'MAE_30d': mae_30d,\n",
    "    'MAPE_30d': mape_val_30d,\n",
    "    'sMAPE_30d': smape_val_30d,\n",
    "    'R2_30d': r2_30d,\n",
    "    'Correlation_30d': corr_30d\n",
    "})"
   ]
  },
  {
   "cell_type": "code",
   "execution_count": null,
   "id": "a1a74c28",
   "metadata": {},
   "outputs": [],
   "source": [
    "pd.DataFrame(results)\n"
   ]
  },
  {
   "cell_type": "code",
   "execution_count": null,
   "id": "94d760bb",
   "metadata": {},
   "outputs": [],
   "source": [
    "pd.DataFrame(results30)"
   ]
  },
  {
   "cell_type": "code",
   "execution_count": null,
   "id": "bf0e00c6",
   "metadata": {},
   "outputs": [],
   "source": [
    "plt.figure(figsize=(12, 6))\n",
    "sns.scatterplot(x=y_val[:], y=y_pred, alpha=0.6)\n",
    "plt.plot([y_val.min(), y_val.max()], [y_val.min(), y_val.max()], color='red', linestyle='--', label='y = x')\n",
    "plt.xlabel('Actual')\n",
    "plt.ylabel('Predicted')\n",
    "plt.title(f'Actual vs Predicted')\n",
    "plt.legend()\n",
    "plt.grid(True)\n",
    "plt.tight_layout()\n",
    "plt.show()"
   ]
  },
  {
   "cell_type": "code",
   "execution_count": null,
   "id": "98bda542",
   "metadata": {},
   "outputs": [],
   "source": [
    "plt.figure(figsize=(12, 6))\n",
    "plt.plot(y_val.index, y_val.values, label='Actual', linewidth=2)\n",
    "plt.plot(y_val.index, y_pred, label='Predicted (Best Model)', linewidth=2, linestyle='--')\n",
    "plt.xlabel('Time')\n",
    "plt.ylabel('NUMBER_INT')\n",
    "plt.title(f'Actual vs Predicted Over Time')\n",
    "plt.legend()\n",
    "plt.grid(True)\n",
    "plt.tight_layout()\n",
    "plt.show()"
   ]
  },
  {
   "cell_type": "code",
   "execution_count": null,
   "id": "7cdfe00d",
   "metadata": {},
   "outputs": [],
   "source": [
    "plt.figure(figsize=(12, 6))\n",
    "sns.scatterplot(x=y_val[:30], y=y_pred[:30], alpha=0.6)\n",
    "plt.plot([y_val[:30].min(), y_val[:30].max()], [y_val[:30].min(), y_val[:30].max()], color='red', linestyle='--', label='y = x')\n",
    "plt.xlabel('Actual')\n",
    "plt.ylabel('Predicted')\n",
    "plt.title('30 Days: Actual vs Predicted')\n",
    "plt.legend()\n",
    "plt.grid(True)\n",
    "plt.tight_layout()\n",
    "plt.show()\n"
   ]
  },
  {
   "cell_type": "code",
   "execution_count": null,
   "id": "92681aac",
   "metadata": {},
   "outputs": [],
   "source": [
    "plt.figure(figsize=(12, 6))\n",
    "plt.plot(y_val.index[:30], y_val[:30].values, label='Actual', linewidth=2)\n",
    "plt.plot(y_val.index[:30], y_pred[:30], label='Predicted', linewidth=2, linestyle='--')\n",
    "plt.xlabel('Time')\n",
    "plt.ylabel('NUMBER_INT')\n",
    "plt.title('30 Days: Actual vs Predicted Over Time')\n",
    "plt.legend()\n",
    "plt.grid(True)\n",
    "plt.tight_layout()\n",
    "plt.show()"
   ]
  },
  {
   "cell_type": "markdown",
   "id": "ac8727a8",
   "metadata": {},
   "source": [
    "# With pollutant"
   ]
  },
  {
   "cell_type": "code",
   "execution_count": null,
   "id": "93a41f8e",
   "metadata": {},
   "outputs": [],
   "source": [
    "selected_cols_final_pollu = [\n",
    "    'Date',\n",
    "    'DayOfWeekNum',\n",
    "    'WeekOfYear',\n",
    "    'Month',\n",
    "    'IsWeekend',\n",
    "    'IsHoliday',\n",
    "    'NUMBER_INT',\n",
    "    'O3',\n",
    "    'temp_max',\n",
    "    'temp_min',\n",
    "    'humidity_max',\n",
    "]\n",
    "\n",
    "df_pollu_final = df_pollu[selected_cols_final_pollu].copy()\n",
    "\n",
    "# add lag\n",
    "\n",
    "df_pollu_final['O3_lag1'] = df_pollu_final['O3'].shift(1)\n",
    "df_pollu_final['O3_lag2'] = df_pollu_final['O3'].shift(2)\n",
    "df_pollu_final['O3_lag3'] = df_pollu_final['O3'].shift(3)\n",
    "\n",
    "df_pollu_final['temp_min_lag1'] = df_pollu_final['temp_min'].shift(1)\n",
    "df_pollu_final['temp_min_lag2'] = df_pollu_final['temp_min'].shift(2)\n",
    "df_pollu_final['temp_min_lag3'] = df_pollu_final['temp_min'].shift(3)\n",
    "\n",
    "# df_pollu_final['humidity_max_lag1'] = df_pollu_final['humidity_max'].shift(1)\n",
    "# df_pollu_final['humidity_max_lag2'] = df_pollu_final['humidity_max'].shift(2)\n",
    "# df_pollu_final['humidity_max_lag3'] = df_pollu_final['humidity_max'].shift(3)\n",
    "\n",
    "df_pollu_final = df_pollu_final.dropna()\n",
    "df_pollu_final.info()"
   ]
  },
  {
   "cell_type": "code",
   "execution_count": null,
   "id": "0666e92a",
   "metadata": {},
   "outputs": [],
   "source": [
    "df_pollu_final['Date'] = pd.to_datetime(df_pollu_final['Date'])\n",
    "\n",
    "# remove the last 5 days (account for lag ...)\n",
    "# df_pollu_final = df_pollu_final[:-5]\n",
    "\n",
    "# Range for training and testing (4 years for training, 1 year for validation)\n",
    "val_mask_pollu = df_pollu_final['Date'].dt.year == (min_year + 4)\n",
    "\n",
    "\n",
    "df_pollu_val = df_pollu_final[val_mask_pollu]\n",
    "df_pollu_val = df_pollu_val.drop(columns=['Date'])\n",
    "\n",
    "X = df_pollu_final.drop(columns=['Date', 'NUMBER_INT'])\n",
    "y = df_pollu_final['NUMBER_INT']\n"
   ]
  },
  {
   "cell_type": "code",
   "execution_count": null,
   "id": "771b6163",
   "metadata": {},
   "outputs": [],
   "source": [
    "# TODO\n",
    "# Drop the columns that are not needed for test\n",
    "\n",
    "X_val = df_pollu_val.drop(columns=['NUMBER_INT', 'O3', 'O3_lag1', 'O3_lag2', 'O3_lag3',\n",
    "                                    'temp_min_lag1', 'temp_min_lag2', 'temp_min_lag3'])\n",
    "y_val = df_pollu_val['NUMBER_INT']\n",
    "\n",
    "\n",
    "results_pollu = []\n",
    "\n",
    "\n",
    "# Count Val set\n",
    "X_val.count()"
   ]
  },
  {
   "cell_type": "code",
   "execution_count": null,
   "id": "d47d7df8",
   "metadata": {},
   "outputs": [],
   "source": [
    "y_predi_pollut = best_xgb_model_base.predict(X_val)\n",
    "\n",
    "# Metrics 1y\n",
    "mse = mean_squared_error(y_val, y_predi_pollut)\n",
    "rmse = np.sqrt(mse)\n",
    "mae = mean_absolute_error(y_val, y_predi_pollut)\n",
    "mape_val = mape(y_val, y_predi_pollut)\n",
    "smape_val = smape(y_val, y_predi_pollut)\n",
    "r2 = r2_score(y_val, y_predi_pollut)\n",
    "corr = np.corrcoef(y_val, y_predi_pollut)[0, 1]\n",
    "\n",
    "\n",
    "\n",
    "results_pollu.append({\n",
    "'MSE': mse,\n",
    "'RMSE': rmse,\n",
    "'MAE': mae,\n",
    "'MAPE': mape_val,\n",
    "'sMAPE': smape_val,\n",
    "'R2': r2,\n",
    "'Correlation': corr,\n",
    "})\n",
    "\n"
   ]
  },
  {
   "cell_type": "code",
   "execution_count": null,
   "id": "216cc946",
   "metadata": {},
   "outputs": [],
   "source": [
    "pd.DataFrame(results_pollu)"
   ]
  },
  {
   "cell_type": "code",
   "execution_count": null,
   "id": "5a9bf873",
   "metadata": {},
   "outputs": [],
   "source": [
    "plt.figure(figsize=(12, 6))\n",
    "sns.scatterplot(x=y_val[:], y=y_predi_pollut, alpha=0.6)\n",
    "plt.plot([y_val.min(), y_val.max()], [y_val.min(), y_val.max()], color='red', linestyle='--', label='y = x')\n",
    "plt.xlabel('Actual')\n",
    "plt.ylabel('Predicted')\n",
    "plt.title(f'Actual vs Predicted')\n",
    "plt.legend()\n",
    "plt.grid(True)\n",
    "plt.tight_layout()\n",
    "plt.show()"
   ]
  },
  {
   "cell_type": "code",
   "execution_count": null,
   "id": "58f6f166",
   "metadata": {},
   "outputs": [],
   "source": [
    "plt.figure(figsize=(12, 6))\n",
    "plt.plot(y_val.index, y_val.values, label='Actual', linewidth=2)\n",
    "plt.plot(y_val.index, y_predi_pollut, label='Predicted (Best Model)', linewidth=2, linestyle='--')\n",
    "plt.xlabel('Time')\n",
    "plt.ylabel('NUMBER_INT')\n",
    "plt.title(f'Actual vs Predicted Over Time')\n",
    "plt.legend()\n",
    "plt.grid(True)\n",
    "plt.tight_layout()\n",
    "plt.show()"
   ]
  }
 ],
 "metadata": {
  "kernelspec": {
   "display_name": ".venv",
   "language": "python",
   "name": "python3"
  },
  "language_info": {
   "codemirror_mode": {
    "name": "ipython",
    "version": 3
   },
   "file_extension": ".py",
   "mimetype": "text/x-python",
   "name": "python",
   "nbconvert_exporter": "python",
   "pygments_lexer": "ipython3",
   "version": "3.12.3"
  }
 },
 "nbformat": 4,
 "nbformat_minor": 5
}
