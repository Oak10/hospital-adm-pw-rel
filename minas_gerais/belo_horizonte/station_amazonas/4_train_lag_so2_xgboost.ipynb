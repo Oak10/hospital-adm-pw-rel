{
 "cells": [
  {
   "cell_type": "code",
   "execution_count": null,
   "id": "0da40e6a",
   "metadata": {},
   "outputs": [],
   "source": [
    "import pandas as pd\n",
    "import matplotlib.pyplot as plt\n",
    "import seaborn as sns\n",
    "import numpy as np\n",
    "\n",
    "from sklearn.model_selection import train_test_split, cross_val_score, GridSearchCV\n",
    "from sklearn.metrics import mean_squared_error, mean_absolute_error, r2_score\n",
    "from xgboost import XGBRegressor"
   ]
  },
  {
   "cell_type": "code",
   "execution_count": null,
   "id": "fa36a987",
   "metadata": {},
   "outputs": [],
   "source": [
    "# --- Metrics ---\n",
    "def mape(y_true, y_pred):\n",
    "    return np.mean(np.abs((y_true - y_pred) / y_true)) * 100\n",
    "\n",
    "def smape(y_true, y_pred):\n",
    "    return 100/len(y_true) * np.sum(2 * np.abs(y_pred - y_true) / (np.abs(y_true) + np.abs(y_pred)))"
   ]
  },
  {
   "cell_type": "markdown",
   "id": "32cfc1d2",
   "metadata": {},
   "source": [
    "# Read data"
   ]
  },
  {
   "cell_type": "code",
   "execution_count": null,
   "id": "ac2c88a8",
   "metadata": {},
   "outputs": [],
   "source": [
    "df = pd.read_csv(\"df_final_bh_amazonas.csv\")"
   ]
  },
  {
   "cell_type": "code",
   "execution_count": null,
   "id": "8ec0dd85",
   "metadata": {},
   "outputs": [],
   "source": [
    "df.head()"
   ]
  },
  {
   "cell_type": "code",
   "execution_count": null,
   "id": "88bc51b9",
   "metadata": {},
   "outputs": [],
   "source": [
    "df.count()"
   ]
  },
  {
   "cell_type": "markdown",
   "id": "4001b8f3",
   "metadata": {},
   "source": [
    "### Set features"
   ]
  },
  {
   "cell_type": "code",
   "execution_count": null,
   "id": "da0b2a84",
   "metadata": {},
   "outputs": [],
   "source": [
    "selected_cols_final = [\n",
    "    'Date',\n",
    "    'DayOfWeekNum',\n",
    "    'WeekOfYear',\n",
    "    'Month',\n",
    "    'IsWeekend',\n",
    "    'IsHoliday',\n",
    "    'NUMBER_INT',\n",
    "    'SO2',\n",
    "    'temp_max',\n",
    "    'temp_min',\n",
    "    'humidity_max',\n",
    "]\n",
    "\n",
    "df_final = df[selected_cols_final].copy()"
   ]
  },
  {
   "cell_type": "code",
   "execution_count": null,
   "id": "a6bcc269",
   "metadata": {},
   "outputs": [],
   "source": [
    "# add lag\n",
    "\n",
    "df_final['SO2_lag1'] = df_final['SO2'].shift(1)\n",
    "df_final['SO2_lag2'] = df_final['SO2'].shift(2)\n",
    "df_final['SO2_lag3'] = df_final['SO2'].shift(3)\n",
    "\n",
    "df_final['temp_min_lag1'] = df_final['temp_min'].shift(1)\n",
    "df_final['temp_min_lag2'] = df_final['temp_min'].shift(2)\n",
    "df_final['temp_min_lag3'] = df_final['temp_min'].shift(3)\n",
    "\n",
    "# df_final['humidity_max_lag1'] = df_final['humidity_max'].shift(1)\n",
    "# df_final['humidity_max_lag2'] = df_final['humidity_max'].shift(2)\n",
    "# df_final['humidity_max_lag3'] = df_final['humidity_max'].shift(3)"
   ]
  },
  {
   "cell_type": "code",
   "execution_count": null,
   "id": "a15bc819",
   "metadata": {},
   "outputs": [],
   "source": [
    "df_final = df_final.dropna()"
   ]
  },
  {
   "cell_type": "code",
   "execution_count": null,
   "id": "bce418c2",
   "metadata": {},
   "outputs": [],
   "source": [
    "# Check non-null counts and data types\n",
    "df_final.info()\n",
    "\n",
    "# Check descriptive statistics\n",
    "df_final.describe(include='all').T"
   ]
  },
  {
   "cell_type": "code",
   "execution_count": null,
   "id": "74f1ce06",
   "metadata": {},
   "outputs": [],
   "source": [
    "df_final.dtypes"
   ]
  },
  {
   "cell_type": "markdown",
   "id": "593b2a06",
   "metadata": {},
   "source": [
    "## Train"
   ]
  },
  {
   "cell_type": "code",
   "execution_count": null,
   "id": "e0547a28",
   "metadata": {},
   "outputs": [],
   "source": [
    "df_final['Date'] = pd.to_datetime(df_final['Date'])\n",
    "# df_final = df_final.sort_values(by='Date')\n",
    "\n",
    "# remove the last 5 days (account for lag ...)\n",
    "# df_final = df_final[:-5]\n",
    "\n",
    "# Range for training and testing (4 years for training, 1 year for validation)\n",
    "min_year = df_final['Date'].dt.year.min()\n",
    "train_mask = df_final['Date'].dt.year < (min_year + 4)\n",
    "val_mask = df_final['Date'].dt.year == (min_year + 4)\n",
    "\n",
    "\n",
    "\n",
    "df_train = df_final[train_mask]\n",
    "df_val = df_final[val_mask]\n",
    "\n",
    "df_train = df_train.drop(columns=['Date'])\n",
    "df_val = df_val.drop(columns=['Date'])\n",
    "\n",
    "X = df_final.drop(columns=['Date', 'NUMBER_INT'])\n",
    "y = df_final['NUMBER_INT']\n",
    "\n",
    "\n",
    "X_train = df_train.drop(columns=['NUMBER_INT'])\n",
    "y_train = df_train['NUMBER_INT']\n",
    "\n",
    "X_val = df_val.drop(columns=['NUMBER_INT'])\n",
    "y_val = df_val['NUMBER_INT']"
   ]
  },
  {
   "cell_type": "code",
   "execution_count": null,
   "id": "076dd34b",
   "metadata": {},
   "outputs": [],
   "source": [
    "df_train.head()"
   ]
  },
  {
   "cell_type": "code",
   "execution_count": null,
   "id": "8609ee7b",
   "metadata": {},
   "outputs": [],
   "source": [
    "df_train.tail()"
   ]
  },
  {
   "cell_type": "code",
   "execution_count": null,
   "id": "0da67887",
   "metadata": {},
   "outputs": [],
   "source": [
    "df_val.head()"
   ]
  },
  {
   "cell_type": "code",
   "execution_count": null,
   "id": "2326cfd1",
   "metadata": {},
   "outputs": [],
   "source": [
    "df_val.tail()"
   ]
  },
  {
   "cell_type": "markdown",
   "id": "d9dcb3b7",
   "metadata": {},
   "source": [
    "## Test (10x with cv)"
   ]
  },
  {
   "cell_type": "code",
   "execution_count": null,
   "id": "0ba81dd5",
   "metadata": {},
   "outputs": [],
   "source": [
    "results = []\n",
    "results30 = []\n",
    "\n",
    "param_grid = {\n",
    "    'n_estimators': [20, 40, 60, 80, 100, 120, 140, 160],\n",
    "    'max_depth': [2, 4, 6, 10, 12, 14, 16, 18, 20],\n",
    "    'learning_rate': [0.01, 0.1, 0.2],\n",
    "    'subsample': [0.8, 0.9, 1.0],\n",
    "    'colsample_bytree': [0.8, 1.0]\n",
    "}"
   ]
  },
  {
   "cell_type": "code",
   "execution_count": null,
   "id": "7de7b140",
   "metadata": {},
   "outputs": [],
   "source": [
    "for i in range(10):\n",
    "    grid_search = GridSearchCV(\n",
    "        estimator=XGBRegressor(random_state=i),\n",
    "        param_grid=param_grid,\n",
    "        cv=5,\n",
    "        scoring='r2',\n",
    "        n_jobs=-1\n",
    "    )\n",
    "\n",
    "    grid_search.fit(X_train, y_train)\n",
    "\n",
    "    print(f\"\\nRun {i+1} Best Hyperparameters:\")\n",
    "    print(\"Best Hyperparameters:\", grid_search.best_params_)\n",
    "    print(f\"Best R-squared: {grid_search.best_score_:.4f}\")\n",
    "\n",
    "    best_xgb_model = grid_search.best_estimator_\n",
    "    y_pred = best_xgb_model.predict(X_val)\n",
    "\n",
    "    # Metrics 1y\n",
    "    mse = mean_squared_error(y_val, y_pred)\n",
    "    rmse = np.sqrt(mse)\n",
    "    mae = mean_absolute_error(y_val, y_pred)\n",
    "    mape_val = mape(y_val, y_pred)\n",
    "    smape_val = smape(y_val, y_pred)\n",
    "    r2 = r2_score(y_val, y_pred)\n",
    "    corr = np.corrcoef(y_val, y_pred)[0, 1]\n",
    "\n",
    "    # Metrics 30d\n",
    "    y_pred_30d = best_xgb_model.predict(X_val[:30])\n",
    "    y_val_30 = y_val[:30]\n",
    "    mse_30d = mean_squared_error(y_val_30, y_pred_30d)\n",
    "    rmse_30d = np.sqrt(mse_30d)\n",
    "    mae_30d = mean_absolute_error(y_val_30, y_pred_30d)\n",
    "    mape_val_30d = mape(y_val_30, y_pred_30d)\n",
    "    smape_val_30d = smape(y_val_30, y_pred_30d)\n",
    "    r2_30d = r2_score(y_val_30, y_pred_30d)\n",
    "    corr_30d = np.corrcoef(y_val_30, y_pred_30d)[0, 1]\n",
    "\n",
    "    results.append({\n",
    "        'run': i+1,\n",
    "        'random_state': i,\n",
    "        'MSE': mse,\n",
    "        'RMSE': rmse,\n",
    "        'MAE': mae,\n",
    "        'MAPE': mape_val,\n",
    "        'sMAPE': smape_val,\n",
    "        'R2': r2,\n",
    "        'Correlation': corr,\n",
    "        'Best Params': grid_search.best_params_,\n",
    "        'Best Cross-validated R-squared': grid_search.best_score_\n",
    "    })\n",
    "\n",
    "    results30.append({\n",
    "        'run': i+1,\n",
    "        'random_state': i,\n",
    "        'MSE_30d': mse_30d,\n",
    "        'RMSE_30d': rmse_30d,\n",
    "        'MAE_30d': mae_30d,\n",
    "        'MAPE_30d': mape_val_30d,\n",
    "        'sMAPE_30d': smape_val_30d,\n",
    "        'R2_30d': r2_30d,\n",
    "        'Correlation_30d': corr_30d\n",
    "    })\n",
    "\n"
   ]
  },
  {
   "cell_type": "markdown",
   "id": "d47fb54f",
   "metadata": {},
   "source": [
    "### Results 1y"
   ]
  },
  {
   "cell_type": "code",
   "execution_count": null,
   "id": "2b68948f",
   "metadata": {},
   "outputs": [],
   "source": [
    "results_df = pd.DataFrame(results)\n",
    "results_df"
   ]
  },
  {
   "cell_type": "code",
   "execution_count": null,
   "id": "a41c7d93",
   "metadata": {},
   "outputs": [],
   "source": [
    "results_df.describe()"
   ]
  },
  {
   "cell_type": "markdown",
   "id": "b3ec85c1",
   "metadata": {},
   "source": [
    "### results 30d"
   ]
  },
  {
   "cell_type": "code",
   "execution_count": null,
   "id": "3cce9e5c",
   "metadata": {},
   "outputs": [],
   "source": [
    "results_df_30 = pd.DataFrame(results30)\n",
    "results_df_30"
   ]
  },
  {
   "cell_type": "code",
   "execution_count": null,
   "id": "8e2af4e2",
   "metadata": {},
   "outputs": [],
   "source": [
    "results_df_30.describe()"
   ]
  },
  {
   "cell_type": "markdown",
   "id": "e4af2ad4",
   "metadata": {},
   "source": [
    "## Plots    "
   ]
  },
  {
   "cell_type": "code",
   "execution_count": null,
   "id": "147d83f2",
   "metadata": {},
   "outputs": [],
   "source": [
    "best_idx = results_df['RMSE'].idxmin()\n",
    "print(f\"Best run based on RMSE: Run {results_df.loc[best_idx, 'run']} with RMSE = {results_df.loc[best_idx, 'RMSE']:.2f}\")\n",
    "\n",
    "best_params = results_df.loc[best_idx, 'Best Params']\n",
    "print(f\"Best parameters: {best_params}\")\n",
    "\n",
    "best_random_state = results_df.loc[best_idx, 'run'] - 1 \n",
    "\n",
    "# Rebuild the best model\n",
    "best_model = XGBRegressor(random_state=best_random_state, **best_params)\n",
    "best_model.fit(X_train, y_train)\n",
    "y_pred_best = best_model.predict(X_val)\n"
   ]
  },
  {
   "cell_type": "markdown",
   "id": "23093e52",
   "metadata": {},
   "source": [
    "### 1y"
   ]
  },
  {
   "cell_type": "code",
   "execution_count": null,
   "id": "178f7da7",
   "metadata": {},
   "outputs": [],
   "source": [
    "plt.figure(figsize=(12, 6))\n",
    "sns.scatterplot(x=y_val[:], y=y_pred_best, alpha=0.6)\n",
    "plt.plot([y_val.min(), y_val.max()], [y_val.min(), y_val.max()], color='red', linestyle='--', label='y = x')\n",
    "plt.xlabel('Actual')\n",
    "plt.ylabel('Predicted')\n",
    "plt.title(f'Actual vs Predicted')\n",
    "plt.legend()\n",
    "plt.grid(True)\n",
    "plt.tight_layout()\n",
    "plt.show()"
   ]
  },
  {
   "cell_type": "code",
   "execution_count": null,
   "id": "f6290e52",
   "metadata": {},
   "outputs": [],
   "source": [
    "plt.figure(figsize=(12, 6))\n",
    "plt.plot(y_val.index, y_val.values, label='Actual', linewidth=2)\n",
    "plt.plot(y_val.index, y_pred_best, label='Predicted (Best Model)', linewidth=2, linestyle='--')\n",
    "plt.xlabel('Time')\n",
    "plt.ylabel('NUMBER_INT')\n",
    "plt.title(f'Actual vs Predicted Over Time')\n",
    "plt.legend()\n",
    "plt.grid(True)\n",
    "plt.tight_layout()\n",
    "plt.show()"
   ]
  },
  {
   "cell_type": "markdown",
   "id": "1378d3e0",
   "metadata": {},
   "source": [
    "### 30d"
   ]
  },
  {
   "cell_type": "code",
   "execution_count": null,
   "id": "6ede6ecd",
   "metadata": {},
   "outputs": [],
   "source": [
    "plt.figure(figsize=(12, 6))\n",
    "sns.scatterplot(x=y_val[:30], y=y_pred_best[:30], alpha=0.6)\n",
    "plt.plot([y_val[:30].min(), y_val[:30].max()], [y_val[:30].min(), y_val[:30].max()], color='red', linestyle='--', label='y = x')\n",
    "plt.xlabel('Actual')\n",
    "plt.ylabel('Predicted')\n",
    "plt.title('30 Days: Actual vs Predicted')\n",
    "plt.legend()\n",
    "plt.grid(True)\n",
    "plt.tight_layout()\n",
    "plt.show()\n"
   ]
  },
  {
   "cell_type": "code",
   "execution_count": null,
   "id": "73e7c780",
   "metadata": {},
   "outputs": [],
   "source": [
    "plt.figure(figsize=(12, 6))\n",
    "plt.plot(y_val.index[:30], y_val[:30].values, label='Actual', linewidth=2)\n",
    "plt.plot(y_val.index[:30], y_pred_best[:30], label='Predicted', linewidth=2, linestyle='--')\n",
    "plt.xlabel('Time')\n",
    "plt.ylabel('NUMBER_INT')\n",
    "plt.title('30 Days: Actual vs Predicted Over Time')\n",
    "plt.legend()\n",
    "plt.grid(True)\n",
    "plt.tight_layout()\n",
    "plt.show()"
   ]
  },
  {
   "cell_type": "code",
   "execution_count": null,
   "id": "ca0b5d96",
   "metadata": {},
   "outputs": [],
   "source": [
    "importances = best_model.feature_importances_\n",
    "features = X.columns\n",
    "indices = np.argsort(importances)[::-1]\n",
    "\n",
    "plt.figure(figsize=(12,6))\n",
    "plt.title('Feature Importances')\n",
    "plt.bar(range(X.shape[1]), importances[indices], align='center')\n",
    "plt.xticks(range(X.shape[1]), features[indices], rotation=90)\n",
    "plt.tight_layout()\n",
    "plt.show()"
   ]
  }
 ],
 "metadata": {
  "kernelspec": {
   "display_name": ".venv",
   "language": "python",
   "name": "python3"
  },
  "language_info": {
   "codemirror_mode": {
    "name": "ipython",
    "version": 3
   },
   "file_extension": ".py",
   "mimetype": "text/x-python",
   "name": "python",
   "nbconvert_exporter": "python",
   "pygments_lexer": "ipython3",
   "version": "3.13.1"
  }
 },
 "nbformat": 4,
 "nbformat_minor": 5
}
